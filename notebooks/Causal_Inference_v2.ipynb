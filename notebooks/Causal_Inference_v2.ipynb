{
  "cells": [
    {
      "cell_type": "markdown",
      "source": [
        "# Causal Inference"
      ],
      "metadata": {
        "id": "zNR-36s2IPjO"
      }
    },
    {
      "cell_type": "code",
      "source": [
        "!pip install econml\n",
        "!pip install dowhy\n",
        "!pip install -U econml"
      ],
      "metadata": {
        "colab": {
          "base_uri": "https://localhost:8080/"
        },
        "id": "AuLmlxgPJjuz",
        "outputId": "5d77328a-41cb-4349-a819-a5dd7bbf22ed"
      },
      "execution_count": 8,
      "outputs": [
        {
          "output_type": "stream",
          "name": "stdout",
          "text": [
            "Requirement already satisfied: econml in /usr/local/lib/python3.11/dist-packages (0.15.1)\n",
            "Requirement already satisfied: numpy<2 in /usr/local/lib/python3.11/dist-packages (from econml) (1.26.4)\n",
            "Requirement already satisfied: scipy>1.4.0 in /usr/local/lib/python3.11/dist-packages (from econml) (1.13.1)\n",
            "Requirement already satisfied: scikit-learn<1.6,>=1.0 in /usr/local/lib/python3.11/dist-packages (from econml) (1.5.2)\n",
            "Requirement already satisfied: sparse in /usr/local/lib/python3.11/dist-packages (from econml) (0.15.5)\n",
            "Requirement already satisfied: joblib>=0.13.0 in /usr/local/lib/python3.11/dist-packages (from econml) (1.4.2)\n",
            "Requirement already satisfied: statsmodels>=0.10 in /usr/local/lib/python3.11/dist-packages (from econml) (0.14.4)\n",
            "Requirement already satisfied: pandas>1.0 in /usr/local/lib/python3.11/dist-packages (from econml) (2.2.2)\n",
            "Requirement already satisfied: shap<0.44.0,>=0.38.1 in /usr/local/lib/python3.11/dist-packages (from econml) (0.43.0)\n",
            "Requirement already satisfied: lightgbm in /usr/local/lib/python3.11/dist-packages (from econml) (4.5.0)\n",
            "Requirement already satisfied: packaging in /usr/local/lib/python3.11/dist-packages (from econml) (24.2)\n",
            "Requirement already satisfied: python-dateutil>=2.8.2 in /usr/local/lib/python3.11/dist-packages (from pandas>1.0->econml) (2.8.2)\n",
            "Requirement already satisfied: pytz>=2020.1 in /usr/local/lib/python3.11/dist-packages (from pandas>1.0->econml) (2025.1)\n",
            "Requirement already satisfied: tzdata>=2022.7 in /usr/local/lib/python3.11/dist-packages (from pandas>1.0->econml) (2025.1)\n",
            "Requirement already satisfied: threadpoolctl>=3.1.0 in /usr/local/lib/python3.11/dist-packages (from scikit-learn<1.6,>=1.0->econml) (3.5.0)\n",
            "Requirement already satisfied: tqdm>=4.27.0 in /usr/local/lib/python3.11/dist-packages (from shap<0.44.0,>=0.38.1->econml) (4.67.1)\n",
            "Requirement already satisfied: slicer==0.0.7 in /usr/local/lib/python3.11/dist-packages (from shap<0.44.0,>=0.38.1->econml) (0.0.7)\n",
            "Requirement already satisfied: numba in /usr/local/lib/python3.11/dist-packages (from shap<0.44.0,>=0.38.1->econml) (0.61.0)\n",
            "Requirement already satisfied: cloudpickle in /usr/local/lib/python3.11/dist-packages (from shap<0.44.0,>=0.38.1->econml) (3.1.1)\n",
            "Requirement already satisfied: patsy>=0.5.6 in /usr/local/lib/python3.11/dist-packages (from statsmodels>=0.10->econml) (1.0.1)\n",
            "Requirement already satisfied: llvmlite<0.45,>=0.44.0dev0 in /usr/local/lib/python3.11/dist-packages (from numba->shap<0.44.0,>=0.38.1->econml) (0.44.0)\n",
            "Requirement already satisfied: six>=1.5 in /usr/local/lib/python3.11/dist-packages (from python-dateutil>=2.8.2->pandas>1.0->econml) (1.17.0)\n",
            "Collecting dowhy\n",
            "  Downloading dowhy-0.12-py3-none-any.whl.metadata (18 kB)\n",
            "Collecting causal-learn>=0.1.3.0 (from dowhy)\n",
            "  Downloading causal_learn-0.1.4.0-py3-none-any.whl.metadata (4.6 kB)\n",
            "Requirement already satisfied: cvxpy>=1.2.2 in /usr/local/lib/python3.11/dist-packages (from dowhy) (1.6.1)\n",
            "Collecting cython<3.0 (from dowhy)\n",
            "  Downloading Cython-0.29.37-cp311-cp311-manylinux_2_17_x86_64.manylinux2014_x86_64.manylinux_2_24_x86_64.whl.metadata (3.1 kB)\n",
            "Requirement already satisfied: joblib>=1.1.0 in /usr/local/lib/python3.11/dist-packages (from dowhy) (1.4.2)\n",
            "Requirement already satisfied: networkx>=2.8.5 in /usr/local/lib/python3.11/dist-packages (from dowhy) (3.4.2)\n",
            "Requirement already satisfied: numba>=0.59 in /usr/local/lib/python3.11/dist-packages (from dowhy) (0.61.0)\n",
            "Requirement already satisfied: numpy>1.0 in /usr/local/lib/python3.11/dist-packages (from dowhy) (1.26.4)\n",
            "Requirement already satisfied: pandas>1.0 in /usr/local/lib/python3.11/dist-packages (from dowhy) (2.2.2)\n",
            "Requirement already satisfied: scikit-learn>1.0 in /usr/local/lib/python3.11/dist-packages (from dowhy) (1.5.2)\n",
            "Requirement already satisfied: scipy>=1.10 in /usr/local/lib/python3.11/dist-packages (from dowhy) (1.13.1)\n",
            "Requirement already satisfied: statsmodels>=0.13.5 in /usr/local/lib/python3.11/dist-packages (from dowhy) (0.14.4)\n",
            "Requirement already satisfied: sympy>=1.10.1 in /usr/local/lib/python3.11/dist-packages (from dowhy) (1.13.1)\n",
            "Requirement already satisfied: tqdm>=4.64.0 in /usr/local/lib/python3.11/dist-packages (from dowhy) (4.67.1)\n",
            "Requirement already satisfied: graphviz in /usr/local/lib/python3.11/dist-packages (from causal-learn>=0.1.3.0->dowhy) (0.20.3)\n",
            "Requirement already satisfied: matplotlib in /usr/local/lib/python3.11/dist-packages (from causal-learn>=0.1.3.0->dowhy) (3.10.0)\n",
            "Requirement already satisfied: pydot in /usr/local/lib/python3.11/dist-packages (from causal-learn>=0.1.3.0->dowhy) (3.0.4)\n",
            "Collecting momentchi2 (from causal-learn>=0.1.3.0->dowhy)\n",
            "  Downloading momentchi2-0.1.8-py3-none-any.whl.metadata (6.1 kB)\n",
            "Requirement already satisfied: osqp>=0.6.2 in /usr/local/lib/python3.11/dist-packages (from cvxpy>=1.2.2->dowhy) (0.6.7.post3)\n",
            "Requirement already satisfied: clarabel>=0.5.0 in /usr/local/lib/python3.11/dist-packages (from cvxpy>=1.2.2->dowhy) (0.10.0)\n",
            "Requirement already satisfied: scs>=3.2.4.post1 in /usr/local/lib/python3.11/dist-packages (from cvxpy>=1.2.2->dowhy) (3.2.7.post2)\n",
            "Requirement already satisfied: llvmlite<0.45,>=0.44.0dev0 in /usr/local/lib/python3.11/dist-packages (from numba>=0.59->dowhy) (0.44.0)\n",
            "Requirement already satisfied: python-dateutil>=2.8.2 in /usr/local/lib/python3.11/dist-packages (from pandas>1.0->dowhy) (2.8.2)\n",
            "Requirement already satisfied: pytz>=2020.1 in /usr/local/lib/python3.11/dist-packages (from pandas>1.0->dowhy) (2025.1)\n",
            "Requirement already satisfied: tzdata>=2022.7 in /usr/local/lib/python3.11/dist-packages (from pandas>1.0->dowhy) (2025.1)\n",
            "Requirement already satisfied: threadpoolctl>=3.1.0 in /usr/local/lib/python3.11/dist-packages (from scikit-learn>1.0->dowhy) (3.5.0)\n",
            "Requirement already satisfied: patsy>=0.5.6 in /usr/local/lib/python3.11/dist-packages (from statsmodels>=0.13.5->dowhy) (1.0.1)\n",
            "Requirement already satisfied: packaging>=21.3 in /usr/local/lib/python3.11/dist-packages (from statsmodels>=0.13.5->dowhy) (24.2)\n",
            "Requirement already satisfied: mpmath<1.4,>=1.1.0 in /usr/local/lib/python3.11/dist-packages (from sympy>=1.10.1->dowhy) (1.3.0)\n",
            "Requirement already satisfied: qdldl in /usr/local/lib/python3.11/dist-packages (from osqp>=0.6.2->cvxpy>=1.2.2->dowhy) (0.1.7.post5)\n",
            "Requirement already satisfied: six>=1.5 in /usr/local/lib/python3.11/dist-packages (from python-dateutil>=2.8.2->pandas>1.0->dowhy) (1.17.0)\n",
            "Requirement already satisfied: contourpy>=1.0.1 in /usr/local/lib/python3.11/dist-packages (from matplotlib->causal-learn>=0.1.3.0->dowhy) (1.3.1)\n",
            "Requirement already satisfied: cycler>=0.10 in /usr/local/lib/python3.11/dist-packages (from matplotlib->causal-learn>=0.1.3.0->dowhy) (0.12.1)\n",
            "Requirement already satisfied: fonttools>=4.22.0 in /usr/local/lib/python3.11/dist-packages (from matplotlib->causal-learn>=0.1.3.0->dowhy) (4.56.0)\n",
            "Requirement already satisfied: kiwisolver>=1.3.1 in /usr/local/lib/python3.11/dist-packages (from matplotlib->causal-learn>=0.1.3.0->dowhy) (1.4.8)\n",
            "Requirement already satisfied: pillow>=8 in /usr/local/lib/python3.11/dist-packages (from matplotlib->causal-learn>=0.1.3.0->dowhy) (11.1.0)\n",
            "Requirement already satisfied: pyparsing>=2.3.1 in /usr/local/lib/python3.11/dist-packages (from matplotlib->causal-learn>=0.1.3.0->dowhy) (3.2.1)\n",
            "Downloading dowhy-0.12-py3-none-any.whl (398 kB)\n",
            "\u001b[2K   \u001b[90m━━━━━━━━━━━━━━━━━━━━━━━━━━━━━━━━━━━━━━━━\u001b[0m \u001b[32m398.4/398.4 kB\u001b[0m \u001b[31m11.1 MB/s\u001b[0m eta \u001b[36m0:00:00\u001b[0m\n",
            "\u001b[?25hDownloading causal_learn-0.1.4.0-py3-none-any.whl (192 kB)\n",
            "\u001b[2K   \u001b[90m━━━━━━━━━━━━━━━━━━━━━━━━━━━━━━━━━━━━━━━━\u001b[0m \u001b[32m192.1/192.1 kB\u001b[0m \u001b[31m17.2 MB/s\u001b[0m eta \u001b[36m0:00:00\u001b[0m\n",
            "\u001b[?25hDownloading Cython-0.29.37-cp311-cp311-manylinux_2_17_x86_64.manylinux2014_x86_64.manylinux_2_24_x86_64.whl (1.9 MB)\n",
            "\u001b[2K   \u001b[90m━━━━━━━━━━━━━━━━━━━━━━━━━━━━━━━━━━━━━━━━\u001b[0m \u001b[32m1.9/1.9 MB\u001b[0m \u001b[31m59.5 MB/s\u001b[0m eta \u001b[36m0:00:00\u001b[0m\n",
            "\u001b[?25hDownloading momentchi2-0.1.8-py3-none-any.whl (11 kB)\n",
            "Installing collected packages: cython, momentchi2, causal-learn, dowhy\n",
            "  Attempting uninstall: cython\n",
            "    Found existing installation: Cython 3.0.12\n",
            "    Uninstalling Cython-3.0.12:\n",
            "      Successfully uninstalled Cython-3.0.12\n",
            "Successfully installed causal-learn-0.1.4.0 cython-0.29.37 dowhy-0.12 momentchi2-0.1.8\n",
            "Requirement already satisfied: econml in /usr/local/lib/python3.11/dist-packages (0.15.1)\n",
            "Requirement already satisfied: numpy<2 in /usr/local/lib/python3.11/dist-packages (from econml) (1.26.4)\n",
            "Requirement already satisfied: scipy>1.4.0 in /usr/local/lib/python3.11/dist-packages (from econml) (1.13.1)\n",
            "Requirement already satisfied: scikit-learn<1.6,>=1.0 in /usr/local/lib/python3.11/dist-packages (from econml) (1.5.2)\n",
            "Requirement already satisfied: sparse in /usr/local/lib/python3.11/dist-packages (from econml) (0.15.5)\n",
            "Requirement already satisfied: joblib>=0.13.0 in /usr/local/lib/python3.11/dist-packages (from econml) (1.4.2)\n",
            "Requirement already satisfied: statsmodels>=0.10 in /usr/local/lib/python3.11/dist-packages (from econml) (0.14.4)\n",
            "Requirement already satisfied: pandas>1.0 in /usr/local/lib/python3.11/dist-packages (from econml) (2.2.2)\n",
            "Requirement already satisfied: shap<0.44.0,>=0.38.1 in /usr/local/lib/python3.11/dist-packages (from econml) (0.43.0)\n",
            "Requirement already satisfied: lightgbm in /usr/local/lib/python3.11/dist-packages (from econml) (4.5.0)\n",
            "Requirement already satisfied: packaging in /usr/local/lib/python3.11/dist-packages (from econml) (24.2)\n",
            "Requirement already satisfied: python-dateutil>=2.8.2 in /usr/local/lib/python3.11/dist-packages (from pandas>1.0->econml) (2.8.2)\n",
            "Requirement already satisfied: pytz>=2020.1 in /usr/local/lib/python3.11/dist-packages (from pandas>1.0->econml) (2025.1)\n",
            "Requirement already satisfied: tzdata>=2022.7 in /usr/local/lib/python3.11/dist-packages (from pandas>1.0->econml) (2025.1)\n",
            "Requirement already satisfied: threadpoolctl>=3.1.0 in /usr/local/lib/python3.11/dist-packages (from scikit-learn<1.6,>=1.0->econml) (3.5.0)\n",
            "Requirement already satisfied: tqdm>=4.27.0 in /usr/local/lib/python3.11/dist-packages (from shap<0.44.0,>=0.38.1->econml) (4.67.1)\n",
            "Requirement already satisfied: slicer==0.0.7 in /usr/local/lib/python3.11/dist-packages (from shap<0.44.0,>=0.38.1->econml) (0.0.7)\n",
            "Requirement already satisfied: numba in /usr/local/lib/python3.11/dist-packages (from shap<0.44.0,>=0.38.1->econml) (0.61.0)\n",
            "Requirement already satisfied: cloudpickle in /usr/local/lib/python3.11/dist-packages (from shap<0.44.0,>=0.38.1->econml) (3.1.1)\n",
            "Requirement already satisfied: patsy>=0.5.6 in /usr/local/lib/python3.11/dist-packages (from statsmodels>=0.10->econml) (1.0.1)\n",
            "Requirement already satisfied: llvmlite<0.45,>=0.44.0dev0 in /usr/local/lib/python3.11/dist-packages (from numba->shap<0.44.0,>=0.38.1->econml) (0.44.0)\n",
            "Requirement already satisfied: six>=1.5 in /usr/local/lib/python3.11/dist-packages (from python-dateutil>=2.8.2->pandas>1.0->econml) (1.17.0)\n"
          ]
        }
      ]
    },
    {
      "cell_type": "code",
      "source": [
        "!apt-get update\n",
        "!apt-get install -y graphviz libgraphviz-dev pkg-config\n",
        "!pip install pygraphviz\n",
        "!pip install pydot\n",
        "!pip install -U dowhy"
      ],
      "metadata": {
        "colab": {
          "base_uri": "https://localhost:8080/"
        },
        "id": "HXhOhzddQGbJ",
        "outputId": "057ad6fe-4ca1-4650-a9a5-ee4b55a93468"
      },
      "execution_count": 24,
      "outputs": [
        {
          "output_type": "stream",
          "name": "stdout",
          "text": [
            "Get:1 https://cloud.r-project.org/bin/linux/ubuntu jammy-cran40/ InRelease [3,632 B]\n",
            "Hit:2 http://archive.ubuntu.com/ubuntu jammy InRelease\n",
            "Get:3 http://archive.ubuntu.com/ubuntu jammy-updates InRelease [128 kB]\n",
            "Get:4 https://developer.download.nvidia.com/compute/cuda/repos/ubuntu2204/x86_64  InRelease [1,581 B]\n",
            "Get:5 http://security.ubuntu.com/ubuntu jammy-security InRelease [129 kB]\n",
            "Get:6 https://r2u.stat.illinois.edu/ubuntu jammy InRelease [6,555 B]\n",
            "Get:7 http://archive.ubuntu.com/ubuntu jammy-backports InRelease [127 kB]\n",
            "Hit:8 https://ppa.launchpadcontent.net/deadsnakes/ppa/ubuntu jammy InRelease\n",
            "Hit:9 https://ppa.launchpadcontent.net/graphics-drivers/ppa/ubuntu jammy InRelease\n",
            "Hit:10 https://ppa.launchpadcontent.net/ubuntugis/ppa/ubuntu jammy InRelease\n",
            "Get:11 https://developer.download.nvidia.com/compute/cuda/repos/ubuntu2204/x86_64  Packages [1,319 kB]\n",
            "Get:12 https://r2u.stat.illinois.edu/ubuntu jammy/main amd64 Packages [2,661 kB]\n",
            "Get:13 http://archive.ubuntu.com/ubuntu jammy-updates/main amd64 Packages [2,950 kB]\n",
            "Get:14 https://r2u.stat.illinois.edu/ubuntu jammy/main all Packages [8,704 kB]\n",
            "Get:15 http://archive.ubuntu.com/ubuntu jammy-updates/universe amd64 Packages [1,532 kB]\n",
            "Get:16 http://archive.ubuntu.com/ubuntu jammy-updates/restricted amd64 Packages [3,813 kB]\n",
            "Get:17 http://security.ubuntu.com/ubuntu jammy-security/restricted amd64 Packages [3,664 kB]\n",
            "Get:18 http://security.ubuntu.com/ubuntu jammy-security/main amd64 Packages [2,639 kB]\n",
            "Get:19 http://security.ubuntu.com/ubuntu jammy-security/universe amd64 Packages [1,235 kB]\n",
            "Fetched 28.9 MB in 4s (7,157 kB/s)\n",
            "Reading package lists... Done\n",
            "W: Skipping acquire of configured file 'main/source/Sources' as repository 'https://r2u.stat.illinois.edu/ubuntu jammy InRelease' does not seem to provide it (sources.list entry misspelt?)\n",
            "Reading package lists... Done\n",
            "Building dependency tree... Done\n",
            "Reading state information... Done\n",
            "graphviz is already the newest version (2.42.2-6ubuntu0.1).\n",
            "The following packages were automatically installed and are no longer required:\n",
            "  libbz2-dev libpkgconf3 libreadline-dev\n",
            "Use 'apt autoremove' to remove them.\n",
            "The following additional packages will be installed:\n",
            "  libgail-common libgail18 libgtk2.0-0 libgtk2.0-bin libgtk2.0-common libgvc6-plugins-gtk\n",
            "  librsvg2-common libxdot4\n",
            "Suggested packages:\n",
            "  gvfs\n",
            "The following packages will be REMOVED:\n",
            "  pkgconf r-base-dev\n",
            "The following NEW packages will be installed:\n",
            "  libgail-common libgail18 libgraphviz-dev libgtk2.0-0 libgtk2.0-bin libgtk2.0-common\n",
            "  libgvc6-plugins-gtk librsvg2-common libxdot4 pkg-config\n",
            "0 upgraded, 10 newly installed, 2 to remove and 32 not upgraded.\n",
            "Need to get 2,482 kB of archives.\n",
            "After this operation, 7,670 kB of additional disk space will be used.\n",
            "Get:1 http://archive.ubuntu.com/ubuntu jammy/main amd64 pkg-config amd64 0.29.2-1ubuntu3 [48.2 kB]\n",
            "Get:2 http://archive.ubuntu.com/ubuntu jammy-updates/main amd64 libgtk2.0-common all 2.24.33-2ubuntu2.1 [125 kB]\n",
            "Get:3 http://archive.ubuntu.com/ubuntu jammy-updates/main amd64 libgtk2.0-0 amd64 2.24.33-2ubuntu2.1 [2,038 kB]\n",
            "Get:4 http://archive.ubuntu.com/ubuntu jammy-updates/main amd64 libgail18 amd64 2.24.33-2ubuntu2.1 [15.9 kB]\n",
            "Get:5 http://archive.ubuntu.com/ubuntu jammy-updates/main amd64 libgail-common amd64 2.24.33-2ubuntu2.1 [132 kB]\n",
            "Get:6 http://archive.ubuntu.com/ubuntu jammy-updates/universe amd64 libxdot4 amd64 2.42.2-6ubuntu0.1 [16.4 kB]\n",
            "Get:7 http://archive.ubuntu.com/ubuntu jammy-updates/universe amd64 libgvc6-plugins-gtk amd64 2.42.2-6ubuntu0.1 [22.5 kB]\n",
            "Get:8 http://archive.ubuntu.com/ubuntu jammy-updates/universe amd64 libgraphviz-dev amd64 2.42.2-6ubuntu0.1 [58.5 kB]\n",
            "Get:9 http://archive.ubuntu.com/ubuntu jammy-updates/main amd64 libgtk2.0-bin amd64 2.24.33-2ubuntu2.1 [7,936 B]\n",
            "Get:10 http://archive.ubuntu.com/ubuntu jammy-updates/main amd64 librsvg2-common amd64 2.52.5+dfsg-3ubuntu0.2 [17.7 kB]\n",
            "Fetched 2,482 kB in 1s (3,400 kB/s)\n",
            "(Reading database ... 124947 files and directories currently installed.)\n",
            "Removing r-base-dev (4.4.2-1.2204.0) ...\n",
            "dpkg: pkgconf: dependency problems, but removing anyway as you requested:\n",
            " libsndfile1-dev:amd64 depends on pkg-config; however:\n",
            "  Package pkg-config is not installed.\n",
            "  Package pkgconf which provides pkg-config is to be removed.\n",
            " libopencv-dev depends on pkg-config; however:\n",
            "  Package pkg-config is not installed.\n",
            "  Package pkgconf which provides pkg-config is to be removed.\n",
            " libmkl-dev:amd64 depends on pkg-config; however:\n",
            "  Package pkg-config is not installed.\n",
            "  Package pkgconf which provides pkg-config is to be removed.\n",
            " libjack-dev depends on pkg-config; however:\n",
            "  Package pkg-config is not installed.\n",
            "  Package pkgconf which provides pkg-config is to be removed.\n",
            " libgphoto2-dev:amd64 depends on pkg-config; however:\n",
            "  Package pkg-config is not installed.\n",
            "  Package pkgconf which provides pkg-config is to be removed.\n",
            " libfontconfig-dev:amd64 depends on pkg-config; however:\n",
            "  Package pkg-config is not installed.\n",
            "  Package pkgconf which provides pkg-config is to be removed.\n",
            "\n",
            "Removing pkgconf (1.8.0-1) ...\n",
            "Removing 'diversion of /usr/bin/pkg-config to /usr/bin/pkg-config.real by pkgconf'\n",
            "Removing 'diversion of /usr/share/aclocal/pkg.m4 to /usr/share/aclocal/pkg.real.m4 by pkgconf'\n",
            "Removing 'diversion of /usr/share/man/man1/pkg-config.1.gz to /usr/share/man/man1/pkg-config.real.1.gz by pkgconf'\n",
            "Removing 'diversion of /usr/share/pkg-config-crosswrapper to /usr/share/pkg-config-crosswrapper.real by pkgconf'\n",
            "Selecting previously unselected package pkg-config.\n",
            "(Reading database ... 124923 files and directories currently installed.)\n",
            "Preparing to unpack .../0-pkg-config_0.29.2-1ubuntu3_amd64.deb ...\n",
            "Unpacking pkg-config (0.29.2-1ubuntu3) ...\n",
            "Selecting previously unselected package libgtk2.0-common.\n",
            "Preparing to unpack .../1-libgtk2.0-common_2.24.33-2ubuntu2.1_all.deb ...\n",
            "Unpacking libgtk2.0-common (2.24.33-2ubuntu2.1) ...\n",
            "Selecting previously unselected package libgtk2.0-0:amd64.\n",
            "Preparing to unpack .../2-libgtk2.0-0_2.24.33-2ubuntu2.1_amd64.deb ...\n",
            "Unpacking libgtk2.0-0:amd64 (2.24.33-2ubuntu2.1) ...\n",
            "Selecting previously unselected package libgail18:amd64.\n",
            "Preparing to unpack .../3-libgail18_2.24.33-2ubuntu2.1_amd64.deb ...\n",
            "Unpacking libgail18:amd64 (2.24.33-2ubuntu2.1) ...\n",
            "Selecting previously unselected package libgail-common:amd64.\n",
            "Preparing to unpack .../4-libgail-common_2.24.33-2ubuntu2.1_amd64.deb ...\n",
            "Unpacking libgail-common:amd64 (2.24.33-2ubuntu2.1) ...\n",
            "Selecting previously unselected package libxdot4:amd64.\n",
            "Preparing to unpack .../5-libxdot4_2.42.2-6ubuntu0.1_amd64.deb ...\n",
            "Unpacking libxdot4:amd64 (2.42.2-6ubuntu0.1) ...\n",
            "Selecting previously unselected package libgvc6-plugins-gtk.\n",
            "Preparing to unpack .../6-libgvc6-plugins-gtk_2.42.2-6ubuntu0.1_amd64.deb ...\n",
            "Unpacking libgvc6-plugins-gtk (2.42.2-6ubuntu0.1) ...\n",
            "Selecting previously unselected package libgraphviz-dev:amd64.\n",
            "Preparing to unpack .../7-libgraphviz-dev_2.42.2-6ubuntu0.1_amd64.deb ...\n",
            "Unpacking libgraphviz-dev:amd64 (2.42.2-6ubuntu0.1) ...\n",
            "Selecting previously unselected package libgtk2.0-bin.\n",
            "Preparing to unpack .../8-libgtk2.0-bin_2.24.33-2ubuntu2.1_amd64.deb ...\n",
            "Unpacking libgtk2.0-bin (2.24.33-2ubuntu2.1) ...\n",
            "Selecting previously unselected package librsvg2-common:amd64.\n",
            "Preparing to unpack .../9-librsvg2-common_2.52.5+dfsg-3ubuntu0.2_amd64.deb ...\n",
            "Unpacking librsvg2-common:amd64 (2.52.5+dfsg-3ubuntu0.2) ...\n",
            "Setting up libxdot4:amd64 (2.42.2-6ubuntu0.1) ...\n",
            "Setting up pkg-config (0.29.2-1ubuntu3) ...\n",
            "Setting up librsvg2-common:amd64 (2.52.5+dfsg-3ubuntu0.2) ...\n",
            "Setting up libgtk2.0-common (2.24.33-2ubuntu2.1) ...\n",
            "Setting up libgtk2.0-0:amd64 (2.24.33-2ubuntu2.1) ...\n",
            "Setting up libgvc6-plugins-gtk (2.42.2-6ubuntu0.1) ...\n",
            "Setting up libgail18:amd64 (2.24.33-2ubuntu2.1) ...\n",
            "Setting up libgtk2.0-bin (2.24.33-2ubuntu2.1) ...\n",
            "Setting up libgail-common:amd64 (2.24.33-2ubuntu2.1) ...\n",
            "Setting up libgraphviz-dev:amd64 (2.42.2-6ubuntu0.1) ...\n",
            "Processing triggers for libc-bin (2.35-0ubuntu3.8) ...\n",
            "/sbin/ldconfig.real: /usr/local/lib/libtcm.so.1 is not a symbolic link\n",
            "\n",
            "/sbin/ldconfig.real: /usr/local/lib/libtbbmalloc_proxy.so.2 is not a symbolic link\n",
            "\n",
            "/sbin/ldconfig.real: /usr/local/lib/libtcm_debug.so.1 is not a symbolic link\n",
            "\n",
            "/sbin/ldconfig.real: /usr/local/lib/libur_adapter_opencl.so.0 is not a symbolic link\n",
            "\n",
            "/sbin/ldconfig.real: /usr/local/lib/libtbbbind.so.3 is not a symbolic link\n",
            "\n",
            "/sbin/ldconfig.real: /usr/local/lib/libumf.so.0 is not a symbolic link\n",
            "\n",
            "/sbin/ldconfig.real: /usr/local/lib/libtbb.so.12 is not a symbolic link\n",
            "\n",
            "/sbin/ldconfig.real: /usr/local/lib/libur_adapter_level_zero.so.0 is not a symbolic link\n",
            "\n",
            "/sbin/ldconfig.real: /usr/local/lib/libur_loader.so.0 is not a symbolic link\n",
            "\n",
            "/sbin/ldconfig.real: /usr/local/lib/libhwloc.so.15 is not a symbolic link\n",
            "\n",
            "/sbin/ldconfig.real: /usr/local/lib/libtbbmalloc.so.2 is not a symbolic link\n",
            "\n",
            "/sbin/ldconfig.real: /usr/local/lib/libtbbbind_2_0.so.3 is not a symbolic link\n",
            "\n",
            "/sbin/ldconfig.real: /usr/local/lib/libtbbbind_2_5.so.3 is not a symbolic link\n",
            "\n",
            "Processing triggers for man-db (2.10.2-1) ...\n",
            "Processing triggers for libgdk-pixbuf-2.0-0:amd64 (2.42.8+dfsg-1ubuntu0.3) ...\n",
            "Collecting pygraphviz\n",
            "  Using cached pygraphviz-1.14.tar.gz (106 kB)\n",
            "  Installing build dependencies ... \u001b[?25l\u001b[?25hdone\n",
            "  Getting requirements to build wheel ... \u001b[?25l\u001b[?25hdone\n",
            "  Preparing metadata (pyproject.toml) ... \u001b[?25l\u001b[?25hdone\n",
            "Building wheels for collected packages: pygraphviz\n",
            "  Building wheel for pygraphviz (pyproject.toml) ... \u001b[?25l\u001b[?25hdone\n",
            "  Created wheel for pygraphviz: filename=pygraphviz-1.14-cp311-cp311-linux_x86_64.whl size=169680 sha256=cdddb69013ef6079894d9558a110de07aeac9608ebdcffc2c2b89d2dc425dcb1\n",
            "  Stored in directory: /root/.cache/pip/wheels/9c/5f/df/6fffd2a4353f26dbb0e3672a1baf070c124a1d74a5f9318279\n",
            "Successfully built pygraphviz\n",
            "Installing collected packages: pygraphviz\n",
            "Successfully installed pygraphviz-1.14\n",
            "Requirement already satisfied: pydot in /usr/local/lib/python3.11/dist-packages (3.0.4)\n",
            "Requirement already satisfied: pyparsing>=3.0.9 in /usr/local/lib/python3.11/dist-packages (from pydot) (3.2.1)\n",
            "Requirement already satisfied: dowhy in /usr/local/lib/python3.11/dist-packages (0.12)\n",
            "Requirement already satisfied: causal-learn>=0.1.3.0 in /usr/local/lib/python3.11/dist-packages (from dowhy) (0.1.4.0)\n",
            "Requirement already satisfied: cvxpy>=1.2.2 in /usr/local/lib/python3.11/dist-packages (from dowhy) (1.6.1)\n",
            "Requirement already satisfied: cython<3.0 in /usr/local/lib/python3.11/dist-packages (from dowhy) (0.29.37)\n",
            "Requirement already satisfied: joblib>=1.1.0 in /usr/local/lib/python3.11/dist-packages (from dowhy) (1.4.2)\n",
            "Requirement already satisfied: networkx>=2.8.5 in /usr/local/lib/python3.11/dist-packages (from dowhy) (3.4.2)\n",
            "Requirement already satisfied: numba>=0.59 in /usr/local/lib/python3.11/dist-packages (from dowhy) (0.61.0)\n",
            "Requirement already satisfied: numpy>1.0 in /usr/local/lib/python3.11/dist-packages (from dowhy) (1.26.4)\n",
            "Requirement already satisfied: pandas>1.0 in /usr/local/lib/python3.11/dist-packages (from dowhy) (2.2.2)\n",
            "Requirement already satisfied: scikit-learn>1.0 in /usr/local/lib/python3.11/dist-packages (from dowhy) (1.5.2)\n",
            "Requirement already satisfied: scipy>=1.10 in /usr/local/lib/python3.11/dist-packages (from dowhy) (1.13.1)\n",
            "Requirement already satisfied: statsmodels>=0.13.5 in /usr/local/lib/python3.11/dist-packages (from dowhy) (0.14.4)\n",
            "Requirement already satisfied: sympy>=1.10.1 in /usr/local/lib/python3.11/dist-packages (from dowhy) (1.13.1)\n",
            "Requirement already satisfied: tqdm>=4.64.0 in /usr/local/lib/python3.11/dist-packages (from dowhy) (4.67.1)\n",
            "Requirement already satisfied: graphviz in /usr/local/lib/python3.11/dist-packages (from causal-learn>=0.1.3.0->dowhy) (0.20.3)\n",
            "Requirement already satisfied: matplotlib in /usr/local/lib/python3.11/dist-packages (from causal-learn>=0.1.3.0->dowhy) (3.10.0)\n",
            "Requirement already satisfied: pydot in /usr/local/lib/python3.11/dist-packages (from causal-learn>=0.1.3.0->dowhy) (3.0.4)\n",
            "Requirement already satisfied: momentchi2 in /usr/local/lib/python3.11/dist-packages (from causal-learn>=0.1.3.0->dowhy) (0.1.8)\n",
            "Requirement already satisfied: osqp>=0.6.2 in /usr/local/lib/python3.11/dist-packages (from cvxpy>=1.2.2->dowhy) (0.6.7.post3)\n",
            "Requirement already satisfied: clarabel>=0.5.0 in /usr/local/lib/python3.11/dist-packages (from cvxpy>=1.2.2->dowhy) (0.10.0)\n",
            "Requirement already satisfied: scs>=3.2.4.post1 in /usr/local/lib/python3.11/dist-packages (from cvxpy>=1.2.2->dowhy) (3.2.7.post2)\n",
            "Requirement already satisfied: llvmlite<0.45,>=0.44.0dev0 in /usr/local/lib/python3.11/dist-packages (from numba>=0.59->dowhy) (0.44.0)\n",
            "Requirement already satisfied: python-dateutil>=2.8.2 in /usr/local/lib/python3.11/dist-packages (from pandas>1.0->dowhy) (2.8.2)\n",
            "Requirement already satisfied: pytz>=2020.1 in /usr/local/lib/python3.11/dist-packages (from pandas>1.0->dowhy) (2025.1)\n",
            "Requirement already satisfied: tzdata>=2022.7 in /usr/local/lib/python3.11/dist-packages (from pandas>1.0->dowhy) (2025.1)\n",
            "Requirement already satisfied: threadpoolctl>=3.1.0 in /usr/local/lib/python3.11/dist-packages (from scikit-learn>1.0->dowhy) (3.5.0)\n",
            "Requirement already satisfied: patsy>=0.5.6 in /usr/local/lib/python3.11/dist-packages (from statsmodels>=0.13.5->dowhy) (1.0.1)\n",
            "Requirement already satisfied: packaging>=21.3 in /usr/local/lib/python3.11/dist-packages (from statsmodels>=0.13.5->dowhy) (24.2)\n",
            "Requirement already satisfied: mpmath<1.4,>=1.1.0 in /usr/local/lib/python3.11/dist-packages (from sympy>=1.10.1->dowhy) (1.3.0)\n",
            "Requirement already satisfied: qdldl in /usr/local/lib/python3.11/dist-packages (from osqp>=0.6.2->cvxpy>=1.2.2->dowhy) (0.1.7.post5)\n",
            "Requirement already satisfied: six>=1.5 in /usr/local/lib/python3.11/dist-packages (from python-dateutil>=2.8.2->pandas>1.0->dowhy) (1.17.0)\n",
            "Requirement already satisfied: contourpy>=1.0.1 in /usr/local/lib/python3.11/dist-packages (from matplotlib->causal-learn>=0.1.3.0->dowhy) (1.3.1)\n",
            "Requirement already satisfied: cycler>=0.10 in /usr/local/lib/python3.11/dist-packages (from matplotlib->causal-learn>=0.1.3.0->dowhy) (0.12.1)\n",
            "Requirement already satisfied: fonttools>=4.22.0 in /usr/local/lib/python3.11/dist-packages (from matplotlib->causal-learn>=0.1.3.0->dowhy) (4.56.0)\n",
            "Requirement already satisfied: kiwisolver>=1.3.1 in /usr/local/lib/python3.11/dist-packages (from matplotlib->causal-learn>=0.1.3.0->dowhy) (1.4.8)\n",
            "Requirement already satisfied: pillow>=8 in /usr/local/lib/python3.11/dist-packages (from matplotlib->causal-learn>=0.1.3.0->dowhy) (11.1.0)\n",
            "Requirement already satisfied: pyparsing>=2.3.1 in /usr/local/lib/python3.11/dist-packages (from matplotlib->causal-learn>=0.1.3.0->dowhy) (3.2.1)\n"
          ]
        }
      ]
    },
    {
      "cell_type": "code",
      "source": [
        "import pandas as pd\n",
        "import numpy as np\n",
        "import matplotlib.pyplot as plt\n",
        "import seaborn as sns\n",
        "from econml.dml import LinearDML, CausalForestDML\n",
        "from econml.metalearners import XLearner, TLearner, SLearner\n",
        "from sklearn.ensemble import RandomForestRegressor, GradientBoostingRegressor\n",
        "from sklearn.linear_model import LogisticRegression\n",
        "import dowhy\n",
        "from dowhy import CausalModel\n",
        "import networkx as nx\n",
        "from IPython.display import display\n",
        "import warnings\n",
        "warnings.filterwarnings('ignore')"
      ],
      "metadata": {
        "id": "ETUPeYpJIOtF"
      },
      "execution_count": 11,
      "outputs": []
    },
    {
      "cell_type": "code",
      "source": [
        "from google.colab import drive\n",
        "drive.mount('/content/drive')"
      ],
      "metadata": {
        "colab": {
          "base_uri": "https://localhost:8080/"
        },
        "id": "VTINC4xaNSHc",
        "outputId": "475d86f5-14d4-4ae6-a32b-9a0047e76c4d"
      },
      "execution_count": 14,
      "outputs": [
        {
          "output_type": "stream",
          "name": "stdout",
          "text": [
            "Mounted at /content/drive\n"
          ]
        }
      ]
    },
    {
      "cell_type": "code",
      "source": [
        "# Load the preprocessed training dataset\n",
        "train = pd.read_csv('/content/drive/MyDrive/Processed_train.csv')\n",
        "\n",
        "print(\"Dataset dimensions:\", train.shape)\n",
        "print(\"Columns:\", train.columns.tolist())\n",
        "\n",
        "# Basic dataset statistics\n",
        "print(\"\\nBasic dataset statistics:\")\n",
        "print(f\"No-show rate: {train['No-show'].mean():.4f}\")\n",
        "print(f\"SMS received rate: {train['SMS_received'].mean():.4f}\")\n",
        "print(f\"Scholarship rate: {train['Scholarship'].mean():.4f}\")\n",
        "print(f\"Average wait time: {train['WaitTime'].mean():.2f} days\")"
      ],
      "metadata": {
        "colab": {
          "base_uri": "https://localhost:8080/"
        },
        "id": "fBgI3yCoKPpl",
        "outputId": "da85ed1d-cd62-475e-f54a-d86723223c52"
      },
      "execution_count": 17,
      "outputs": [
        {
          "output_type": "stream",
          "name": "stdout",
          "text": [
            "Dataset dimensions: (88421, 117)\n",
            "Columns: ['PatientId', 'AppointmentID', 'Gender', 'ScheduledDay', 'AppointmentDay', 'Age', 'Scholarship', 'Hipertension', 'Diabetes', 'Alcoholism', 'Handcap', 'SMS_received', 'No-show', 'WaitTime', 'WaitTime_Log', 'WaitTime_Std', 'WaitTime_MinMax', 'WaitTime_Age_Interaction', 'poly_0', 'poly_1', 'poly_2', 'poly_3', 'AppointmentDay_Day', 'AppointmentDay_Month', 'AppointmentDay_Weekday', 'WaitTime_RollingMean_3', 'WaitTime_Lag_1', 'Gender_Encoded', 'NB_ANDORINHAS', 'NB_ANTÔNIO HONÓRIO', 'NB_ARIOVALDO FAVALESSA', 'NB_BARRO VERMELHO', 'NB_BELA VISTA', 'NB_BENTO FERREIRA', 'NB_BOA VISTA', 'NB_BONFIM', 'NB_CARATOÍRA', 'NB_CENTRO', 'NB_COMDUSA', 'NB_CONQUISTA', 'NB_CONSOLAÇÃO', 'NB_CRUZAMENTO', 'NB_DA PENHA', 'NB_DE LOURDES', 'NB_DO CABRAL', 'NB_DO MOSCOSO', 'NB_DO QUADRO', 'NB_ENSEADA DO SUÁ', 'NB_ESTRELINHA', 'NB_FONTE GRANDE', 'NB_FORTE SÃO JOÃO', 'NB_FRADINHOS', 'NB_GOIABEIRAS', 'NB_GRANDE VITÓRIA', 'NB_GURIGICA', 'NB_HORTO', 'NB_ILHA DAS CAIEIRAS', 'NB_ILHA DE SANTA MARIA', 'NB_ILHA DO BOI', 'NB_ILHA DO FRADE', 'NB_ILHA DO PRÍNCIPE', 'NB_ILHAS OCEÂNICAS DE TRINDADE', 'NB_INHANGUETÁ', 'NB_ITARARÉ', 'NB_JABOUR', 'NB_JARDIM CAMBURI', 'NB_JARDIM DA PENHA', 'NB_JESUS DE NAZARETH', 'NB_JOANA D´ARC', 'NB_JUCUTUQUARA', 'NB_MARIA ORTIZ', 'NB_MARUÍPE', 'NB_MATA DA PRAIA', 'NB_MONTE BELO', 'NB_MORADA DE CAMBURI', 'NB_MÁRIO CYPRESTE', 'NB_NAZARETH', 'NB_NOVA PALESTINA', 'NB_PARQUE INDUSTRIAL', 'NB_PARQUE MOSCOSO', 'NB_PIEDADE', 'NB_PONTAL DE CAMBURI', 'NB_PRAIA DO CANTO', 'NB_PRAIA DO SUÁ', 'NB_REDENÇÃO', 'NB_REPÚBLICA', 'NB_RESISTÊNCIA', 'NB_ROMÃO', 'NB_SANTA CECÍLIA', 'NB_SANTA CLARA', 'NB_SANTA HELENA', 'NB_SANTA LUÍZA', 'NB_SANTA LÚCIA', 'NB_SANTA MARTHA', 'NB_SANTA TEREZA', 'NB_SANTO ANDRÉ', 'NB_SANTO ANTÔNIO', 'NB_SANTOS DUMONT', 'NB_SANTOS REIS', 'NB_SEGURANÇA DO LAR', 'NB_SOLON BORGES', 'NB_SÃO BENEDITO', 'NB_SÃO CRISTÓVÃO', 'NB_SÃO JOSÉ', 'NB_SÃO PEDRO', 'NB_TABUAZEIRO', 'NB_UNIVERSITÁRIO', 'NB_VILA RUBIM', 'hashed_0', 'hashed_1', 'hashed_2', 'hashed_3', 'hashed_4', 'hashed_5', 'hashed_6', 'hashed_7', 'Cluster_KMeans_2']\n",
            "\n",
            "Basic dataset statistics:\n",
            "No-show rate: 0.2021\n",
            "SMS received rate: 0.3200\n",
            "Scholarship rate: 0.0975\n",
            "Average wait time: 9.49 days\n"
          ]
        }
      ]
    },
    {
      "cell_type": "code",
      "source": [
        "# Create binary WaitTime indicator for easier causal analysis\n",
        "median_wait = train['WaitTime'].median()\n",
        "train['HighWaitTime'] = (train['WaitTime'] > median_wait).astype(int)\n",
        "print(f\"Median wait time: {median_wait:.2f} days\")"
      ],
      "metadata": {
        "colab": {
          "base_uri": "https://localhost:8080/"
        },
        "id": "O8o7DxvnKeGa",
        "outputId": "78d26225-c3d0-428f-d267-f98f7e0cd54b"
      },
      "execution_count": 18,
      "outputs": [
        {
          "output_type": "stream",
          "name": "stdout",
          "text": [
            "Median wait time: 3.00 days\n"
          ]
        }
      ]
    },
    {
      "cell_type": "code",
      "source": [
        "\n",
        "# =======================================================\n",
        "# Visual representation of causal relationships\n",
        "# =======================================================\n",
        "# Since DoWhy graph parsing has issues, we'll create a custom visualization\n",
        "\n",
        "# Create SMS causal graph\n",
        "G_sms = nx.DiGraph()\n",
        "# Add nodes\n",
        "nodes = ['Age', 'Gender_Encoded', 'Hipertension', 'Diabetes', 'SMS_received',\n",
        "         'No-show', 'WaitTime', 'Scholarship', 'Cluster_KMeans_2']\n",
        "G_sms.add_nodes_from(nodes)\n",
        "\n",
        "# Add edges\n",
        "edges = [\n",
        "    ('Age', 'No-show'), ('Gender_Encoded', 'No-show'),\n",
        "    ('Hipertension', 'No-show'), ('Diabetes', 'No-show'),\n",
        "    ('SMS_received', 'No-show'), ('Age', 'SMS_received'),\n",
        "    ('Hipertension', 'SMS_received'), ('Diabetes', 'SMS_received'),\n",
        "    ('WaitTime', 'SMS_received'), ('Scholarship', 'SMS_received'),\n",
        "    ('Scholarship', 'No-show'), ('Cluster_KMeans_2', 'No-show'),\n",
        "    ('Cluster_KMeans_2', 'SMS_received')\n",
        "]\n",
        "G_sms.add_edges_from(edges)\n",
        "\n",
        "# Visualize the causal graph\n",
        "plt.figure(figsize=(12, 8))\n",
        "pos = nx.spring_layout(G_sms, seed=42)\n",
        "nx.draw_networkx(\n",
        "    G_sms,\n",
        "    pos=pos,\n",
        "    arrows=True,\n",
        "    with_labels=True,\n",
        "    node_color='lightblue',\n",
        "    node_size=2000,\n",
        "    font_size=10,\n",
        "    font_weight='bold'\n",
        ")\n",
        "plt.title(\"Causal Graph for SMS Reminders\")\n",
        "plt.axis('off')\n",
        "plt.savefig('sms_causal_graph.png')\n",
        "plt.close()"
      ],
      "metadata": {
        "id": "vBDFbEunUMFV"
      },
      "execution_count": 30,
      "outputs": []
    },
    {
      "cell_type": "markdown",
      "source": [
        "## Question 1: Do SMS reminders causally reduce no-show rates?"
      ],
      "metadata": {
        "id": "7zCm-5QdPeGX"
      }
    },
    {
      "cell_type": "code",
      "source": [
        "print(\"\\n\\n===============================================\")\n",
        "print(\"Question 1: Do SMS reminders causally reduce no-show rates?\")\n",
        "print(\"===============================================\")\n",
        "\n",
        "# 1.1 Initial exploration\n",
        "print(\"\\n1.1 No-show rates by SMS status:\")\n",
        "sms_groups = train.groupby('SMS_received')['No-show'].agg(['mean', 'count'])\n",
        "print(sms_groups)\n",
        "\n",
        "# 1.2 Visualization of no-show rates by SMS status\n",
        "plt.figure(figsize=(10, 6))\n",
        "sns.barplot(x='SMS_received', y='No-show', data=train, errorbar=('ci', 95))\n",
        "plt.title('No-show Rate by SMS Status')\n",
        "plt.xlabel('SMS Received')\n",
        "plt.ylabel('No-show Probability')\n",
        "plt.xticks([0, 1], ['No SMS', 'SMS Received'])\n",
        "plt.savefig('sms_noshow_plot.png')\n",
        "plt.close()"
      ],
      "metadata": {
        "colab": {
          "base_uri": "https://localhost:8080/"
        },
        "id": "070wV6OUPK4a",
        "outputId": "0c94f8a3-e20d-41ad-cf63-87324844bdce"
      },
      "execution_count": 21,
      "outputs": [
        {
          "output_type": "stream",
          "name": "stdout",
          "text": [
            "\n",
            "\n",
            "===============================================\n",
            "Question 1: Do SMS reminders causally reduce no-show rates?\n",
            "===============================================\n",
            "\n",
            "1.1 No-show rates by SMS status:\n",
            "                  mean  count\n",
            "SMS_received                 \n",
            "0             0.166916  60126\n",
            "1             0.276798  28295\n"
          ]
        }
      ]
    },
    {
      "cell_type": "code",
      "source": [
        "# 1.3 Define features for estimation\n",
        "# Include only actual numeric features that exist in the dataset and are relevant\n",
        "core_features = ['Age', 'Gender_Encoded', 'WaitTime_Std', 'Hipertension',\n",
        "                'Diabetes', 'Alcoholism', 'Handcap', 'Scholarship', 'Cluster_KMeans_2']\n",
        "\n",
        "# Verify features exist in the dataset\n",
        "features = [f for f in core_features if f in train.columns]\n",
        "print(f\"\\nUsing features for causal analysis: {features}\")\n",
        "\n",
        "X = train[features].copy()\n",
        "T_sms = train['SMS_received'].values\n",
        "Y = train['No-show'].values\n"
      ],
      "metadata": {
        "colab": {
          "base_uri": "https://localhost:8080/"
        },
        "id": "Xcrv5FMbPoeg",
        "outputId": "b2376656-a66d-4d90-fff8-4b5939cb9f1d"
      },
      "execution_count": 36,
      "outputs": [
        {
          "output_type": "stream",
          "name": "stdout",
          "text": [
            "\n",
            "Using features for causal analysis: ['Age', 'Gender_Encoded', 'WaitTime_Std', 'Hipertension', 'Diabetes', 'Alcoholism', 'Handcap', 'Scholarship', 'Cluster_KMeans_2']\n"
          ]
        }
      ]
    },
    {
      "cell_type": "markdown",
      "source": [
        "### DML Method"
      ],
      "metadata": {
        "id": "pLgjJQY4WEd8"
      }
    },
    {
      "cell_type": "code",
      "source": [
        "# 1.4 Fit Double Machine Learning estimator for SMS\n",
        "print(\"\\n1.2 Double Machine Learning for SMS effect:\")\n",
        "dml_sms = LinearDML(\n",
        "    model_y=GradientBoostingRegressor(n_estimators=100, random_state=42),\n",
        "    model_t=GradientBoostingRegressor(n_estimators=100, random_state=42),\n",
        "    discrete_treatment=True,\n",
        "    random_state=42\n",
        ")\n",
        "dml_sms.fit(Y, T_sms, X=X)\n",
        "\n",
        "# Calculate ATE\n",
        "ate_dml_sms = dml_sms.effect(X)\n",
        "print(f\"Average Treatment Effect (SMS) from DML: {np.mean(ate_dml_sms):.4f}\")\n"
      ],
      "metadata": {
        "colab": {
          "base_uri": "https://localhost:8080/"
        },
        "id": "iTikHdGTV20M",
        "outputId": "1db9a789-1ce8-4d7d-d05d-779c4b44d558"
      },
      "execution_count": 39,
      "outputs": [
        {
          "output_type": "stream",
          "name": "stdout",
          "text": [
            "\n",
            "1.2 Double Machine Learning for SMS effect:\n",
            "Average Treatment Effect (SMS) from DML: -0.0371\n"
          ]
        }
      ]
    },
    {
      "cell_type": "markdown",
      "source": [
        "### Forest DML Method"
      ],
      "metadata": {
        "id": "_AiIM9QBWKY6"
      }
    },
    {
      "cell_type": "code",
      "source": [
        "# 1.5 Fit forest-based CATE estimator for SMS\n",
        "print(\"\\n1.3 Forest-based Causal Model for SMS effect:\")\n",
        "est_forest_sms = CausalForestDML(\n",
        "    model_y=GradientBoostingRegressor(n_estimators=100, random_state=42),\n",
        "    model_t=GradientBoostingRegressor(n_estimators=100, random_state=42),\n",
        "    discrete_treatment=True,\n",
        "    random_state=42\n",
        ")\n",
        "est_forest_sms.fit(Y, T_sms, X=X)\n",
        "\n",
        "# Calculate SMS CATE\n",
        "cate_sms = est_forest_sms.effect(X)\n",
        "train['CATE_SMS'] = cate_sms\n",
        "print(f\"Average Treatment Effect (SMS) from Forest: {np.mean(cate_sms):.4f}\")"
      ],
      "metadata": {
        "colab": {
          "base_uri": "https://localhost:8080/"
        },
        "id": "AhWrw56AV1_H",
        "outputId": "55b3ea0c-6c97-42a7-ec53-d85b9d92d0c3"
      },
      "execution_count": 40,
      "outputs": [
        {
          "output_type": "stream",
          "name": "stdout",
          "text": [
            "\n",
            "1.3 Forest-based Causal Model for SMS effect:\n",
            "Average Treatment Effect (SMS) from Forest: 0.6602\n"
          ]
        }
      ]
    },
    {
      "cell_type": "markdown",
      "source": [
        "### Meta Learners"
      ],
      "metadata": {
        "id": "2oIbZnlMXC6i"
      }
    },
    {
      "cell_type": "code",
      "source": [
        "# 1.6 Meta-learners for robustness\n",
        "print(\"\\n1.4 Meta-learners for SMS effect (robustness check):\")\n",
        "\n",
        "# S-learner\n",
        "s_learner = SLearner(overall_model=GradientBoostingRegressor(n_estimators=100, random_state=42))\n",
        "s_learner.fit(Y,T_sms,X=X)\n",
        "cate_s = s_learner.effect(X)\n",
        "print(f\"ATE from S-learner: {np.mean(cate_s):.4f}\")\n",
        "\n",
        "\n",
        "# T-learner\n",
        "t_learner = TLearner(models=GradientBoostingRegressor(n_estimators=100, random_state=42))\n",
        "t_learner.fit(Y, T_sms, X=X)\n",
        "cate_t = t_learner.effect(X)\n",
        "print(f\"ATE from T-learner: {np.mean(cate_t):.4f}\")\n",
        "\n",
        "# X-learner\n",
        "x_learner = XLearner(\n",
        "    models=GradientBoostingRegressor(n_estimators=100, random_state=42),\n",
        "    propensity_model=LogisticRegression(max_iter=1000, random_state=42)\n",
        ")\n",
        "x_learner.fit(Y, T_sms, X=X)\n",
        "cate_x = x_learner.effect(X)\n",
        "print(f\"ATE from X-learner: {np.mean(cate_x):.4f}\")"
      ],
      "metadata": {
        "colab": {
          "base_uri": "https://localhost:8080/"
        },
        "id": "QEsXVpZPXCcO",
        "outputId": "965837c0-a6bd-47a3-90dc-faf1bb2a0334"
      },
      "execution_count": 44,
      "outputs": [
        {
          "output_type": "stream",
          "name": "stdout",
          "text": [
            "\n",
            "1.4 Meta-learners for SMS effect (robustness check):\n",
            "ATE from S-learner: -0.0280\n",
            "ATE from T-learner: 0.0342\n",
            "ATE from X-learner: -0.0411\n"
          ]
        }
      ]
    },
    {
      "cell_type": "code",
      "source": [
        "# 1.7 CATE by age groups\n",
        "age_bins = [0, 18, 40, 65, 100]\n",
        "age_labels = ['Children', 'Young Adults', 'Adults', 'Elderly']\n",
        "train['AgeGroup'] = pd.cut(train['Age'], bins=age_bins, labels=age_labels)\n",
        "cate_by_age = train.groupby('AgeGroup')['CATE_SMS'].mean()\n",
        "print(\"\\n1.5 Causal effect of SMS by age group:\")\n",
        "print(cate_by_age)\n",
        "\n",
        "# 1.8 CATE by scholarship status\n",
        "cate_by_scholarship = train.groupby('Scholarship')['CATE_SMS'].mean()\n",
        "print(\"\\n1.6 Causal effect of SMS by scholarship status:\")\n",
        "print(cate_by_scholarship)\n",
        "\n",
        "# 1.9 Visualization of heterogeneous SMS effects\n",
        "plt.figure(figsize=(10, 6))\n",
        "sns.boxplot(x='AgeGroup', y='CATE_SMS', data=train)\n",
        "plt.title('SMS Effect by Age Group')\n",
        "plt.xlabel('Age Group')\n",
        "plt.ylabel('SMS Effect on No-show Probability')\n",
        "plt.axhline(y=0, color='r', linestyle='--')\n",
        "plt.savefig('sms_by_age_effects.png')\n",
        "plt.show()"
      ],
      "metadata": {
        "colab": {
          "base_uri": "https://localhost:8080/",
          "height": 815
        },
        "id": "Mv2aiMkAYeWY",
        "outputId": "8ff22ab4-5106-4e7f-dd8f-010b813fd4a7"
      },
      "execution_count": 48,
      "outputs": [
        {
          "output_type": "stream",
          "name": "stdout",
          "text": [
            "\n",
            "1.5 Causal effect of SMS by age group:\n",
            "AgeGroup\n",
            "Children        1.532722\n",
            "Young Adults   -0.559647\n",
            "Adults         -0.130579\n",
            "Elderly        -0.045553\n",
            "Name: CATE_SMS, dtype: float64\n",
            "\n",
            "1.6 Causal effect of SMS by scholarship status:\n",
            "Scholarship\n",
            "0    0.735673\n",
            "1   -0.038451\n",
            "Name: CATE_SMS, dtype: float64\n"
          ]
        },
        {
          "output_type": "display_data",
          "data": {
            "text/plain": [
              "<Figure size 1000x600 with 1 Axes>"
            ],
            "image/png": "[encoded data removed]"
          },
          "metadata": {}
        }
      ]
    },
    {
      "cell_type": "markdown",
      "source": [
        "# Question 2: How do socioeconomic factors impact attendance?"
      ],
      "metadata": {
        "id": "VPhw0zF3dXch"
      }
    },
    {
      "cell_type": "code",
      "source": [
        "print(\"\\n\\n===============================================\")\n",
        "print(\"Question 2: How do socioeconomic factors impact attendance?\")\n",
        "print(\"===============================================\")\n",
        "\n",
        "# 2.1 Initial exploration\n",
        "print(\"\\n2.1 No-show rates by scholarship status:\")\n",
        "scholarship_groups = train.groupby('Scholarship')['No-show'].agg(['mean', 'count'])\n",
        "print(scholarship_groups)"
      ],
      "metadata": {
        "id": "GZ8ZlhHOIhqB"
      },
      "execution_count": null,
      "outputs": []
    },
    {
      "cell_type": "code",
      "source": [
        "# 2.2 Visualization of no-show rates by scholarship status\n",
        "plt.figure(figsize=(10, 6))\n",
        "sns.barplot(x='Scholarship', y='No-show', data=train, errorbar=('ci', 95))\n",
        "plt.title('No-show Rate by Scholarship Status')\n",
        "plt.xlabel('Scholarship (Welfare Program Enrollment)')\n",
        "plt.ylabel('No-show Probability')\n",
        "plt.xticks([0, 1], ['No Scholarship', 'Has Scholarship'])\n",
        "plt.savefig('scholarship_noshow_plot.png')\n",
        "plt.close()"
      ],
      "metadata": {
        "id": "CzNUqDJAIp3o"
      },
      "execution_count": null,
      "outputs": []
    },
    {
      "cell_type": "code",
      "source": [
        "# 2.3 Fit Double Machine Learning estimator for scholarship\n",
        "print(\"\\n2.2 Double Machine Learning for scholarship effect:\")\n",
        "T_scholarship = train['Scholarship'].values\n",
        "\n",
        "# For scholarship analysis, remove Scholarship from features\n",
        "X_scholarship = X.drop('Scholarship', axis=1) if 'Scholarship' in X.columns else X\n",
        "\n",
        "dml_scholarship = LinearDML(\n",
        "    model_y=GradientBoostingRegressor(n_estimators=100, random_state=42),\n",
        "    model_t=GradientBoostingRegressor(n_estimators=100, random_state=42),\n",
        "    discrete_treatment=True,\n",
        "    random_state=42\n",
        ")\n",
        "dml_scholarship.fit(Y, T_scholarship, X=X_scholarship)\n",
        "\n",
        "# Calculate ATE\n",
        "ate_dml_scholarship = dml_scholarship.effect(X_scholarship)\n",
        "print(f\"Average Treatment Effect (Scholarship) from DML: {np.mean(ate_dml_scholarship):.4f}\")"
      ],
      "metadata": {
        "id": "xdu6tJQiIsD3"
      },
      "execution_count": null,
      "outputs": []
    },
    {
      "cell_type": "code",
      "source": [
        "# 2.4 Fit CATE estimator for scholarship\n",
        "print(\"\\n2.3 Forest-based Causal Model for scholarship effect:\")\n",
        "est_forest_scholarship = ForestDMLCateEstimator(\n",
        "    model_y=GradientBoostingRegressor(n_estimators=100, random_state=42),\n",
        "    model_t=GradientBoostingRegressor(n_estimators=100, random_state=42),\n",
        "    discrete_treatment=True,\n",
        "    random_state=42\n",
        ")\n",
        "est_forest_scholarship.fit(Y, T_scholarship, X=X_scholarship)\n",
        "\n",
        "# Calculate scholarship CATE\n",
        "cate_scholarship = est_forest_scholarship.effect(X_scholarship)\n",
        "train['CATE_Scholarship'] = cate_scholarship\n",
        "print(f\"Average Treatment Effect (Scholarship) from Forest: {np.mean(cate_scholarship):.4f}\")"
      ],
      "metadata": {
        "id": "v6cHhWJKJ0ot"
      },
      "execution_count": null,
      "outputs": []
    },
    {
      "cell_type": "code",
      "source": [
        "# 2.5 Meta-learners for robustness\n",
        "print(\"\\n2.4 Meta-learners for scholarship effect (robustness check):\")\n",
        "\n",
        "# S-learner for scholarship\n",
        "s_learner_scholarship = SLearner(learner=GradientBoostingRegressor(n_estimators=100, random_state=42))\n",
        "s_learner_scholarship.fit(X_scholarship, T_scholarship, Y)\n",
        "cate_s_scholarship = s_learner_scholarship.effect(X_scholarship)\n",
        "print(f\"ATE from S-learner: {np.mean(cate_s_scholarship):.4f}\")\n",
        "\n",
        "# X-learner for scholarship\n",
        "x_learner_scholarship = XLearner(\n",
        "    learner=GradientBoostingRegressor(n_estimators=100, random_state=42),\n",
        "    propensity_model=LogisticRegression(max_iter=1000, random_state=42)\n",
        ")\n",
        "x_learner_scholarship.fit(X_scholarship, T_scholarship, Y)\n",
        "cate_x_scholarship = x_learner_scholarship.effect(X_scholarship)\n",
        "print(f\"ATE from X-learner: {np.mean(cate_x_scholarship):.4f}\")"
      ],
      "metadata": {
        "id": "nNWcMMdIJ5n7"
      },
      "execution_count": null,
      "outputs": []
    },
    {
      "cell_type": "code",
      "source": [
        "# 2.6 CATE by age groups and gender\n",
        "cate_by_age_scholarship = train.groupby('AgeGroup')['CATE_Scholarship'].mean()\n",
        "print(\"\\n2.5 Causal effect of scholarship by age group:\")\n",
        "print(cate_by_age_scholarship)\n",
        "\n",
        "cate_by_gender = train.groupby('Gender_Encoded')['CATE_Scholarship'].mean()\n",
        "print(\"\\n2.6 Causal effect of scholarship by gender:\")\n",
        "print(cate_by_gender)\n",
        "\n",
        "# 2.7 Visualization of heterogeneous scholarship effects\n",
        "plt.figure(figsize=(10, 6))\n",
        "sns.boxplot(x='AgeGroup', y='CATE_Scholarship', data=train)\n",
        "plt.title('Scholarship Effect by Age Group')\n",
        "plt.xlabel('Age Group')\n",
        "plt.ylabel('Scholarship Effect on No-show Probability')\n",
        "plt.axhline(y=0, color='r', linestyle='--')\n",
        "plt.savefig('scholarship_by_age_effects.png')\n",
        "plt.close()"
      ],
      "metadata": {
        "id": "tP02cLzNJ8wo"
      },
      "execution_count": null,
      "outputs": []
    },
    {
      "cell_type": "markdown",
      "source": [
        "\n",
        "# Question 3: Does wait time significantly influence no-show behavior?\n"
      ],
      "metadata": {
        "id": "kW6bX6Z9KAEQ"
      }
    },
    {
      "cell_type": "code",
      "source": [
        "print(\"\\n\\n===============================================\")\n",
        "print(\"Question 3: Does wait time significantly influence no-show behavior?\")\n",
        "print(\"===============================================\")\n",
        "\n",
        "# 3.1 Initial exploration\n",
        "print(\"\\n3.1 No-show rates by wait time group:\")\n",
        "waittime_groups = train.groupby('HighWaitTime')['No-show'].agg(['mean', 'count'])\n",
        "print(waittime_groups)\n",
        "\n",
        "# Create wait time bins for visualization\n",
        "wait_bins = [0, 7, 14, 30, train['WaitTime'].max()]\n",
        "wait_labels = ['0-7 days', '8-14 days', '15-30 days', '30+ days']\n",
        "train['WaitTimeGroup'] = pd.cut(train['WaitTime'], bins=wait_bins, labels=wait_labels)\n",
        "\n",
        "print(\"\\n3.2 No-show rates by detailed wait time groups:\")\n",
        "detailed_wait_groups = train.groupby('WaitTimeGroup')['No-show'].agg(['mean', 'count'])\n",
        "print(detailed_wait_groups)"
      ],
      "metadata": {
        "id": "VD7_3i9YKD9d"
      },
      "execution_count": null,
      "outputs": []
    },
    {
      "cell_type": "code",
      "source": [
        "# 3.3 Visualization of no-show rates by wait time\n",
        "plt.figure(figsize=(10, 6))\n",
        "sns.barplot(x='WaitTimeGroup', y='No-show', data=train, errorbar=('ci', 95))\n",
        "plt.title('No-show Rate by Wait Time')\n",
        "plt.xlabel('Wait Time')\n",
        "plt.ylabel('No-show Probability')\n",
        "plt.savefig('waittime_noshow_plot.png')\n",
        "plt.close()\n",
        "\n",
        "# 3.4 Scatter plot of wait time vs. no-show with LOWESS curve\n",
        "plt.figure(figsize=(10, 6))\n",
        "sns.regplot(x='WaitTime', y='No-show', data=train,\n",
        "            scatter_kws={'alpha': 0.3},\n",
        "            lowess=True,\n",
        "            line_kws={'color': 'red'})\n",
        "plt.title('Relationship Between Wait Time and No-show Probability')\n",
        "plt.xlabel('Wait Time (days)')\n",
        "plt.ylabel('No-show Probability')\n",
        "plt.savefig('waittime_scatter_plot.png')\n",
        "plt.close()\n"
      ],
      "metadata": {
        "id": "vsypRu3_yFBo"
      },
      "execution_count": null,
      "outputs": []
    },
    {
      "cell_type": "code",
      "source": [
        "# 3.5 Fit Double Machine Learning estimator for wait time\n",
        "print(\"\\n3.3 Double Machine Learning for wait time effect:\")\n",
        "T_waittime = train['HighWaitTime'].values\n",
        "\n",
        "# For wait time analysis, remove wait time related features from X\n",
        "X_waittime = X.copy()\n",
        "for col in X.columns:\n",
        "    if 'WaitTime' in col:\n",
        "        X_waittime = X_waittime.drop(col, axis=1)\n",
        "\n",
        "dml_waittime = LinearDMLCateEstimator(\n",
        "    model_y=GradientBoostingRegressor(n_estimators=100, random_state=42),\n",
        "    model_t=GradientBoostingRegressor(n_estimators=100, random_state=42),\n",
        "    discrete_treatment=True,\n",
        "    random_state=42\n",
        ")\n",
        "dml_waittime.fit(Y, T_waittime, X=X_waittime)\n",
        "\n",
        "# Calculate ATE\n",
        "ate_dml_waittime = dml_waittime.effect(X_waittime)\n",
        "print(f\"Average Treatment Effect (High Wait Time) from DML: {np.mean(ate_dml_waittime):.4f}\")\n"
      ],
      "metadata": {
        "id": "_YZix2sSyMKE"
      },
      "execution_count": null,
      "outputs": []
    },
    {
      "cell_type": "code",
      "source": [
        "# 3.6 Fit CATE estimator for wait time\n",
        "print(\"\\n3.4 Forest-based Causal Model for wait time effect:\")\n",
        "est_forest_waittime = ForestDMLCateEstimator(\n",
        "    model_y=GradientBoostingRegressor(n_estimators=100, random_state=42),\n",
        "    model_t=GradientBoostingRegressor(n_estimators=100, random_state=42),\n",
        "    discrete_treatment=True,\n",
        "    random_state=42\n",
        ")\n",
        "est_forest_waittime.fit(Y, T_waittime, X=X_waittime)\n",
        "\n",
        "# Calculate wait time CATE\n",
        "cate_waittime = est_forest_waittime.effect(X_waittime)\n",
        "train['CATE_WaitTime'] = cate_waittime\n",
        "print(f\"Average Treatment Effect (High Wait Time) from Forest: {np.mean(cate_waittime):.4f}\")\n"
      ],
      "metadata": {
        "id": "mlshhDYSyPG-"
      },
      "execution_count": null,
      "outputs": []
    },
    {
      "cell_type": "code",
      "source": [
        "# 3.7 Meta-learners for robustness\n",
        "print(\"\\n3.5 Meta-learners for wait time effect (robustness check):\")\n",
        "\n",
        "# S-learner for wait time\n",
        "s_learner_waittime = SLearner(learner=GradientBoostingRegressor(n_estimators=100, random_state=42))\n",
        "s_learner_waittime.fit(X_waittime, T_waittime, Y)\n",
        "cate_s_waittime = s_learner_waittime.effect(X_waittime)\n",
        "print(f\"ATE from S-learner: {np.mean(cate_s_waittime):.4f}\")\n",
        "\n",
        "# X-learner for wait time\n",
        "x_learner_waittime = XLearner(\n",
        "    learner=GradientBoostingRegressor(n_estimators=100, random_state=42),\n",
        "    propensity_model=LogisticRegression(max_iter=1000, random_state=42)\n",
        ")\n",
        "x_learner_waittime.fit(X_waittime, T_waittime, Y)\n",
        "cate_x_waittime = x_learner_waittime.effect(X_waittime)\n",
        "print(f\"ATE from X-learner: {np.mean(cate_x_waittime):.4f}\")"
      ],
      "metadata": {
        "id": "M5iBIMXbymXM"
      },
      "execution_count": null,
      "outputs": []
    },
    {
      "cell_type": "code",
      "source": [
        "# 3.8 CATE by age groups and scholarship status\n",
        "cate_by_age_waittime = train.groupby('AgeGroup')['CATE_WaitTime'].mean()\n",
        "print(\"\\n3.6 Causal effect of high wait time by age group:\")\n",
        "print(cate_by_age_waittime)\n",
        "\n",
        "cate_by_scholarship_waittime = train.groupby('Scholarship')['CATE_WaitTime'].mean()\n",
        "print(\"\\n3.7 Causal effect of high wait time by scholarship status:\")\n",
        "print(cate_by_scholarship_waittime)\n",
        "\n",
        "# 3.9 Visualization of heterogeneous wait time effects\n",
        "plt.figure(figsize=(10, 6))\n",
        "sns.boxplot(x='AgeGroup', y='CATE_WaitTime', data=train)\n",
        "plt.title('Wait Time Effect by Age Group')\n",
        "plt.xlabel('Age Group')\n",
        "plt.ylabel('Wait Time Effect on No-show Probability')\n",
        "plt.axhline(y=0, color='r', linestyle='--')\n",
        "plt.savefig('waittime_by_age_effects.png')\n",
        "plt.close()\n"
      ],
      "metadata": {
        "id": "lbm0wFmlynPp"
      },
      "execution_count": null,
      "outputs": []
    },
    {
      "cell_type": "code",
      "source": [
        "# =======================================================\n",
        "# Combined Analysis and Interactions\n",
        "# =======================================================\n",
        "print(\"\\n\\n===============================================\")\n",
        "print(\"Combined Analysis and Interactions\")\n",
        "print(\"===============================================\")\n",
        "\n",
        "# 4.1 Interaction between SMS and Wait Time\n",
        "print(\"\\n4.1 Interaction between SMS and Wait Time:\")\n",
        "interaction_sms_wait = train.groupby(['SMS_received', 'HighWaitTime'])['No-show'].mean().unstack()\n",
        "print(interaction_sms_wait)\n",
        "\n",
        "# Visualize interaction\n",
        "plt.figure(figsize=(10, 6))\n",
        "sns.barplot(x='HighWaitTime', y='No-show', hue='SMS_received', data=train, errorbar=('ci', 95))\n",
        "plt.title('Interaction Between SMS and Wait Time on No-show Rate')\n",
        "plt.xlabel('High Wait Time')\n",
        "plt.ylabel('No-show Probability')\n",
        "plt.legend(title='SMS Received')\n",
        "plt.savefig('sms_waittime_interaction.png')\n",
        "plt.close()\n"
      ],
      "metadata": {
        "id": "up5txZZHyq-4"
      },
      "execution_count": null,
      "outputs": []
    },
    {
      "cell_type": "code",
      "source": [
        "# 4.2 Interaction between SMS and Scholarship\n",
        "print(\"\\n4.2 Interaction between SMS and Scholarship:\")\n",
        "interaction_sms_scholarship = train.groupby(['SMS_received', 'Scholarship'])['No-show'].mean().unstack()\n",
        "print(interaction_sms_scholarship)\n",
        "\n",
        "# Visualize interaction\n",
        "plt.figure(figsize=(10, 6))\n",
        "sns.barplot(x='Scholarship', y='No-show', hue='SMS_received', data=train, errorbar=('ci', 95))\n",
        "plt.title('Interaction Between SMS and Scholarship on No-show Rate')\n",
        "plt.xlabel('Scholarship Status')\n",
        "plt.ylabel('No-show Probability')\n",
        "plt.legend(title='SMS Received')\n",
        "plt.savefig('sms_scholarship_interaction.png')\n",
        "plt.close()\n"
      ],
      "metadata": {
        "id": "PgbsD_b8yvi9"
      },
      "execution_count": null,
      "outputs": []
    },
    {
      "cell_type": "code",
      "source": [
        "# 4.3 Summary of Causal Effects and Policy Implications\n",
        "print(\"\\n4.3 Summary of Causal Effects from Multiple Methods:\")\n",
        "\n",
        "# Consolidate all estimates for each treatment\n",
        "all_sms_effects = [np.mean(ate_dml_sms), np.mean(cate_sms), np.mean(cate_s), np.mean(cate_t), np.mean(cate_x)]\n",
        "all_scholarship_effects = [np.mean(ate_dml_scholarship), np.mean(cate_scholarship), np.mean(cate_s_scholarship), np.mean(cate_x_scholarship)]\n",
        "all_waittime_effects = [np.mean(ate_dml_waittime), np.mean(cate_waittime), np.mean(cate_s_waittime), np.mean(cate_x_waittime)]\n",
        "\n",
        "print(f\"SMS Reminder Effect: Mean = {np.mean(all_sms_effects):.4f}, Range = [{min(all_sms_effects):.4f}, {max(all_sms_effects):.4f}]\")\n",
        "print(f\"Scholarship Effect: Mean = {np.mean(all_scholarship_effects):.4f}, Range = [{min(all_scholarship_effects):.4f}, {max(all_scholarship_effects):.4f}]\")\n",
        "print(f\"High Wait Time Effect: Mean = {np.mean(all_waittime_effects):.4f}, Range = [{min(all_waittime_effects):.4f}, {max(all_waittime_effects):.4f}]\")\n",
        "\n",
        "# Use the mean across methods for policy implications\n",
        "avg_sms_effect = np.mean(all_sms_effects)\n",
        "avg_scholarship_effect = np.mean(all_scholarship_effects)\n",
        "avg_waittime_effect = np.mean(all_waittime_effects)\n",
        "\n",
        "print(\"\\n4.4 Policy Implications:\")\n",
        "print(\"1. SMS Effectiveness: \", end=\"\")\n",
        "if avg_sms_effect < 0:\n",
        "    print(f\"SMS reminders reduce no-show rates by {-avg_sms_effect*100:.2f}%\")\n",
        "else:\n",
        "    print(f\"SMS reminders do not effectively reduce no-show rates\")\n",
        "\n",
        "print(\"2. Socioeconomic Factors: \", end=\"\")\n",
        "if avg_scholarship_effect > 0:\n",
        "    print(f\"Patients with welfare support (scholarship) have {avg_scholarship_effect*100:.2f}% higher no-show rates\")\n",
        "    print(\"   → Consider providing additional support like transportation vouchers\")\n",
        "else:\n",
        "    print(f\"Welfare program enrollment reduces no-show rates by {-avg_scholarship_effect*100:.2f}%\")\n",
        "\n",
        "print(\"3. Wait Time Management: \", end=\"\")\n",
        "if avg_waittime_effect > 0:\n",
        "    print(f\"Longer wait times increase no-show rates by {avg_waittime_effect*100:.2f}%\")\n",
        "    print(\"   → Prioritize reducing appointment waiting times\")\n",
        "else:\n",
        "    print(f\"Wait time does not significantly affect no-show rates\")"
      ],
      "metadata": {
        "id": "7YCDpNBjy1OP"
      },
      "execution_count": null,
      "outputs": []
    },
    {
      "cell_type": "code",
      "source": [
        "# 4.5 Find optimal targeting strategy\n",
        "print(\"\\n4.5 Optimal SMS Targeting Strategy:\")\n",
        "# Find groups that benefit most from SMS\n",
        "high_benefit_threshold = np.percentile(cate_sms, 25)  # Lower values mean more reduction\n",
        "high_benefit_group = train[cate_sms < high_benefit_threshold]\n",
        "\n",
        "print(f\"Profile of patients who benefit most from SMS reminders (top 25%):\")\n",
        "benefit_profile = high_benefit_group[['Age', 'Gender_Encoded', 'Hipertension',\n",
        "                                     'Diabetes', 'Scholarship', 'WaitTime']].describe()\n",
        "print(benefit_profile)\n",
        "\n",
        "# Save the final results\n",
        "train[['PatientId', 'CATE_SMS', 'CATE_Scholarship', 'CATE_WaitTime']].to_csv('causal_effects_results.csv', index=False)\n",
        "\n",
        "print(\"\\nCausal analysis complete. All results and visualizations have been saved.\")"
      ],
      "metadata": {
        "id": "dOPOZmk1y5kk"
      },
      "execution_count": null,
      "outputs": []
    }
  ],
  "metadata": {
    "kernelspec": {
      "display_name": "Python 3",
      "name": "python3"
    },
    "language_info": {
      "codemirror_mode": {
        "name": "ipython",
        "version": 3
      },
      "file_extension": ".py",
      "mimetype": "text/x-python",
      "name": "python",
      "nbconvert_exporter": "python",
      "pygments_lexer": "ipython3",
      "version": "3.12.5"
    },
    "colab": {
      "provenance": [],
      "gpuType": "T4"
    },
    "accelerator": "GPU"
  },
  "nbformat": 4,
  "nbformat_minor": 0
}
